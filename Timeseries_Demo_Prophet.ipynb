{
  "nbformat": 4,
  "nbformat_minor": 0,
  "metadata": {
    "colab": {
      "name": "Untitled0.ipynb",
      "provenance": [],
      "authorship_tag": "ABX9TyP8zt3R5F6fWvczYf/K1Sbn",
      "include_colab_link": true
    },
    "kernelspec": {
      "name": "python3",
      "display_name": "Python 3"
    }
  },
  "cells": [
    {
      "cell_type": "markdown",
      "metadata": {
        "id": "view-in-github",
        "colab_type": "text"
      },
      "source": [
        "<a href=\"https://colab.research.google.com/github/spatra93/Time-Series-using-Prophet/blob/main/Timeseries_Demo_Prophet.ipynb\" target=\"_parent\"><img src=\"https://colab.research.google.com/assets/colab-badge.svg\" alt=\"Open In Colab\"/></a>"
      ]
    },
    {
      "cell_type": "markdown",
      "metadata": {
        "id": "QW_s7KQdfEWJ"
      },
      "source": [
        "Install Prophet using either command prompt or Anaconda prompt using pip"
      ]
    },
    {
      "cell_type": "code",
      "metadata": {
        "colab": {
          "base_uri": "https://localhost:8080/"
        },
        "id": "NCIdlX0GaBN1",
        "outputId": "c19b4bd4-1f3b-4c03-9b22-d30691ab894c"
      },
      "source": [
        "pip install fbprophet\n",
        "pip install plotly"
      ],
      "execution_count": null,
      "outputs": [
        {
          "output_type": "stream",
          "text": [
            "Requirement already satisfied: plotly in /usr/local/lib/python3.6/dist-packages (4.4.1)\n",
            "Requirement already satisfied: retrying>=1.3.3 in /usr/local/lib/python3.6/dist-packages (from plotly) (1.3.3)\n",
            "Requirement already satisfied: six in /usr/local/lib/python3.6/dist-packages (from plotly) (1.15.0)\n"
          ],
          "name": "stdout"
        }
      ]
    },
    {
      "cell_type": "markdown",
      "metadata": {
        "id": "ZtnXHy25fZRu"
      },
      "source": [
        "Importing the required libraries"
      ]
    },
    {
      "cell_type": "code",
      "metadata": {
        "id": "MnIxP2v9aS78"
      },
      "source": [
        "from fbprophet import Prophet\n",
        "from fbprophet.plot import plot_plotly\n",
        "import numpy as np\n",
        "import pandas as pd\n",
        "import matplotlib.pyplot as plt\n",
        "import plotly.offline as py"
      ],
      "execution_count": null,
      "outputs": []
    },
    {
      "cell_type": "markdown",
      "metadata": {
        "id": "A5T80czafdC5"
      },
      "source": [
        "Reading the data from the sasdata using pandas package"
      ]
    },
    {
      "cell_type": "code",
      "metadata": {
        "id": "unRxEYCXaXtP"
      },
      "source": [
        "df = pd.read_sas('solarpv.sas7bdat')"
      ],
      "execution_count": null,
      "outputs": []
    },
    {
      "cell_type": "markdown",
      "metadata": {
        "id": "xAB2z7pkfmH9"
      },
      "source": [
        "Understanding the data"
      ]
    },
    {
      "cell_type": "code",
      "metadata": {
        "colab": {
          "base_uri": "https://localhost:8080/",
          "height": 204
        },
        "id": "dJ9_9ZhcaqlA",
        "outputId": "d57d60ae-ca05-45b8-fe35-07a16beaa07c"
      },
      "source": [
        "df.head(5)"
      ],
      "execution_count": null,
      "outputs": [
        {
          "output_type": "execute_result",
          "data": {
            "text/html": [
              "<div>\n",
              "<style scoped>\n",
              "    .dataframe tbody tr th:only-of-type {\n",
              "        vertical-align: middle;\n",
              "    }\n",
              "\n",
              "    .dataframe tbody tr th {\n",
              "        vertical-align: top;\n",
              "    }\n",
              "\n",
              "    .dataframe thead th {\n",
              "        text-align: right;\n",
              "    }\n",
              "</style>\n",
              "<table border=\"1\" class=\"dataframe\">\n",
              "  <thead>\n",
              "    <tr style=\"text-align: right;\">\n",
              "      <th></th>\n",
              "      <th>EDT</th>\n",
              "      <th>kW_Gen</th>\n",
              "      <th>Cloud_Cover</th>\n",
              "      <th>cosval</th>\n",
              "    </tr>\n",
              "  </thead>\n",
              "  <tbody>\n",
              "    <tr>\n",
              "      <th>0</th>\n",
              "      <td>2014-10-05</td>\n",
              "      <td>0.553410</td>\n",
              "      <td>4.750000</td>\n",
              "      <td>-0.300642</td>\n",
              "    </tr>\n",
              "    <tr>\n",
              "      <th>1</th>\n",
              "      <td>2014-10-12</td>\n",
              "      <td>0.487093</td>\n",
              "      <td>5.343575</td>\n",
              "      <td>-0.413034</td>\n",
              "    </tr>\n",
              "    <tr>\n",
              "      <th>2</th>\n",
              "      <td>2014-10-19</td>\n",
              "      <td>0.733748</td>\n",
              "      <td>2.285714</td>\n",
              "      <td>-0.519436</td>\n",
              "    </tr>\n",
              "    <tr>\n",
              "      <th>3</th>\n",
              "      <td>2014-10-26</td>\n",
              "      <td>0.531250</td>\n",
              "      <td>4.915071</td>\n",
              "      <td>-0.618305</td>\n",
              "    </tr>\n",
              "    <tr>\n",
              "      <th>4</th>\n",
              "      <td>2014-11-02</td>\n",
              "      <td>0.471055</td>\n",
              "      <td>5.519103</td>\n",
              "      <td>-0.708207</td>\n",
              "    </tr>\n",
              "  </tbody>\n",
              "</table>\n",
              "</div>"
            ],
            "text/plain": [
              "         EDT    kW_Gen  Cloud_Cover    cosval\n",
              "0 2014-10-05  0.553410     4.750000 -0.300642\n",
              "1 2014-10-12  0.487093     5.343575 -0.413034\n",
              "2 2014-10-19  0.733748     2.285714 -0.519436\n",
              "3 2014-10-26  0.531250     4.915071 -0.618305\n",
              "4 2014-11-02  0.471055     5.519103 -0.708207"
            ]
          },
          "metadata": {
            "tags": []
          },
          "execution_count": 6
        }
      ]
    },
    {
      "cell_type": "code",
      "metadata": {
        "colab": {
          "base_uri": "https://localhost:8080/"
        },
        "id": "z_wJcvljbdFR",
        "outputId": "a95dcc45-12a8-4af3-b2eb-434d3e0b9538"
      },
      "source": [
        "df.info()"
      ],
      "execution_count": null,
      "outputs": [
        {
          "output_type": "stream",
          "text": [
            "<class 'pandas.core.frame.DataFrame'>\n",
            "RangeIndex: 42 entries, 0 to 41\n",
            "Data columns (total 4 columns):\n",
            " #   Column       Non-Null Count  Dtype         \n",
            "---  ------       --------------  -----         \n",
            " 0   EDT          42 non-null     datetime64[ns]\n",
            " 1   kW_Gen       42 non-null     float64       \n",
            " 2   Cloud_Cover  42 non-null     float64       \n",
            " 3   cosval       42 non-null     float64       \n",
            "dtypes: datetime64[ns](1), float64(3)\n",
            "memory usage: 1.4 KB\n"
          ],
          "name": "stdout"
        }
      ]
    },
    {
      "cell_type": "code",
      "metadata": {
        "colab": {
          "base_uri": "https://localhost:8080/",
          "height": 297
        },
        "id": "XrrKxa1fbjXq",
        "outputId": "14a2c76a-ad52-47f4-b24a-180629ea19d1"
      },
      "source": [
        "df.describe()"
      ],
      "execution_count": null,
      "outputs": [
        {
          "output_type": "execute_result",
          "data": {
            "text/html": [
              "<div>\n",
              "<style scoped>\n",
              "    .dataframe tbody tr th:only-of-type {\n",
              "        vertical-align: middle;\n",
              "    }\n",
              "\n",
              "    .dataframe tbody tr th {\n",
              "        vertical-align: top;\n",
              "    }\n",
              "\n",
              "    .dataframe thead th {\n",
              "        text-align: right;\n",
              "    }\n",
              "</style>\n",
              "<table border=\"1\" class=\"dataframe\">\n",
              "  <thead>\n",
              "    <tr style=\"text-align: right;\">\n",
              "      <th></th>\n",
              "      <th>kW_Gen</th>\n",
              "      <th>Cloud_Cover</th>\n",
              "      <th>cosval</th>\n",
              "    </tr>\n",
              "  </thead>\n",
              "  <tbody>\n",
              "    <tr>\n",
              "      <th>count</th>\n",
              "      <td>42.000000</td>\n",
              "      <td>42.000000</td>\n",
              "      <td>42.000000</td>\n",
              "    </tr>\n",
              "    <tr>\n",
              "      <th>mean</th>\n",
              "      <td>0.511078</td>\n",
              "      <td>5.189634</td>\n",
              "      <td>-0.081107</td>\n",
              "    </tr>\n",
              "    <tr>\n",
              "      <th>std</th>\n",
              "      <td>0.181538</td>\n",
              "      <td>0.891544</td>\n",
              "      <td>0.758759</td>\n",
              "    </tr>\n",
              "    <tr>\n",
              "      <th>min</th>\n",
              "      <td>0.173000</td>\n",
              "      <td>2.285714</td>\n",
              "      <td>-0.997594</td>\n",
              "    </tr>\n",
              "    <tr>\n",
              "      <th>25%</th>\n",
              "      <td>0.375270</td>\n",
              "      <td>4.590942</td>\n",
              "      <td>-0.787838</td>\n",
              "    </tr>\n",
              "    <tr>\n",
              "      <th>50%</th>\n",
              "      <td>0.512408</td>\n",
              "      <td>5.288153</td>\n",
              "      <td>-0.300642</td>\n",
              "    </tr>\n",
              "    <tr>\n",
              "      <th>75%</th>\n",
              "      <td>0.659235</td>\n",
              "      <td>5.821016</td>\n",
              "      <td>0.762415</td>\n",
              "    </tr>\n",
              "    <tr>\n",
              "      <th>max</th>\n",
              "      <td>0.844648</td>\n",
              "      <td>6.571429</td>\n",
              "      <td>0.998075</td>\n",
              "    </tr>\n",
              "  </tbody>\n",
              "</table>\n",
              "</div>"
            ],
            "text/plain": [
              "          kW_Gen  Cloud_Cover     cosval\n",
              "count  42.000000    42.000000  42.000000\n",
              "mean    0.511078     5.189634  -0.081107\n",
              "std     0.181538     0.891544   0.758759\n",
              "min     0.173000     2.285714  -0.997594\n",
              "25%     0.375270     4.590942  -0.787838\n",
              "50%     0.512408     5.288153  -0.300642\n",
              "75%     0.659235     5.821016   0.762415\n",
              "max     0.844648     6.571429   0.998075"
            ]
          },
          "metadata": {
            "tags": []
          },
          "execution_count": 17
        }
      ]
    },
    {
      "cell_type": "code",
      "metadata": {
        "colab": {
          "base_uri": "https://localhost:8080/"
        },
        "id": "EAF9vstNawAT",
        "outputId": "299cf0f7-bc9a-4014-88ac-dfccd58ab2d3"
      },
      "source": [
        "print(df['EDT'].head(1))\n",
        "print(df['EDT'].tail(1))"
      ],
      "execution_count": null,
      "outputs": [
        {
          "output_type": "stream",
          "text": [
            "0   2014-10-05\n",
            "Name: EDT, dtype: datetime64[ns]\n",
            "41   2015-07-19\n",
            "Name: EDT, dtype: datetime64[ns]\n"
          ],
          "name": "stdout"
        }
      ]
    },
    {
      "cell_type": "markdown",
      "metadata": {
        "id": "Lc2ULjMsfwhb"
      },
      "source": [
        "Creating input features(X) and target variable(y)"
      ]
    },
    {
      "cell_type": "code",
      "metadata": {
        "colab": {
          "base_uri": "https://localhost:8080/",
          "height": 111
        },
        "id": "B6-H3tDEa5t_",
        "outputId": "650fa392-50a5-48de-e64e-973d6081bb96"
      },
      "source": [
        "X= df[['EDT','Cloud_Cover','cosval']]\n",
        "y= df.iloc[:,1]\n",
        "\n",
        "train_dataset= pd.DataFrame()\n",
        "train_dataset['ds'] = pd.to_datetime(X[\"EDT\"])\n",
        "train_dataset['y']=y\n",
        "train_dataset.head(2)"
      ],
      "execution_count": null,
      "outputs": [
        {
          "output_type": "execute_result",
          "data": {
            "text/html": [
              "<div>\n",
              "<style scoped>\n",
              "    .dataframe tbody tr th:only-of-type {\n",
              "        vertical-align: middle;\n",
              "    }\n",
              "\n",
              "    .dataframe tbody tr th {\n",
              "        vertical-align: top;\n",
              "    }\n",
              "\n",
              "    .dataframe thead th {\n",
              "        text-align: right;\n",
              "    }\n",
              "</style>\n",
              "<table border=\"1\" class=\"dataframe\">\n",
              "  <thead>\n",
              "    <tr style=\"text-align: right;\">\n",
              "      <th></th>\n",
              "      <th>ds</th>\n",
              "      <th>y</th>\n",
              "    </tr>\n",
              "  </thead>\n",
              "  <tbody>\n",
              "    <tr>\n",
              "      <th>0</th>\n",
              "      <td>2014-10-05</td>\n",
              "      <td>0.553410</td>\n",
              "    </tr>\n",
              "    <tr>\n",
              "      <th>1</th>\n",
              "      <td>2014-10-12</td>\n",
              "      <td>0.487093</td>\n",
              "    </tr>\n",
              "  </tbody>\n",
              "</table>\n",
              "</div>"
            ],
            "text/plain": [
              "          ds         y\n",
              "0 2014-10-05  0.553410\n",
              "1 2014-10-12  0.487093"
            ]
          },
          "metadata": {
            "tags": []
          },
          "execution_count": 18
        }
      ]
    },
    {
      "cell_type": "markdown",
      "metadata": {
        "id": "OQOaxmNIf074"
      },
      "source": [
        "Creating the data set for Prophet"
      ]
    },
    {
      "cell_type": "code",
      "metadata": {
        "colab": {
          "base_uri": "https://localhost:8080/"
        },
        "id": "-zioequ6cXpp",
        "outputId": "d021976b-13c2-4ce8-c8d1-8e7491629f3d"
      },
      "source": [
        "prophet_basic = Prophet()  #instantiate Prophet\n",
        "prophet_basic.fit(train_dataset)   #fit the model with your dataframe"
      ],
      "execution_count": null,
      "outputs": [
        {
          "output_type": "stream",
          "text": [
            "INFO:fbprophet:Disabling yearly seasonality. Run prophet with yearly_seasonality=True to override this.\n",
            "INFO:fbprophet:Disabling weekly seasonality. Run prophet with weekly_seasonality=True to override this.\n",
            "INFO:fbprophet:Disabling daily seasonality. Run prophet with daily_seasonality=True to override this.\n"
          ],
          "name": "stderr"
        },
        {
          "output_type": "execute_result",
          "data": {
            "text/plain": [
              "<fbprophet.forecaster.Prophet at 0x7fe2aa4d52b0>"
            ]
          },
          "metadata": {
            "tags": []
          },
          "execution_count": 21
        }
      ]
    },
    {
      "cell_type": "markdown",
      "metadata": {
        "id": "yvBA8bpCf4Sl"
      },
      "source": [
        "Creating and fitting the Prophet model with default values"
      ]
    },
    {
      "cell_type": "code",
      "metadata": {
        "colab": {
          "base_uri": "https://localhost:8080/",
          "height": 359
        },
        "id": "wLG1pe-icxCx",
        "outputId": "100bfef4-d5b6-40c9-b8e4-781c3214e8a5"
      },
      "source": [
        "future= prophet_basic.make_future_dataframe(periods=10, freq='W')\n",
        "future.tail(10)"
      ],
      "execution_count": null,
      "outputs": [
        {
          "output_type": "execute_result",
          "data": {
            "text/html": [
              "<div>\n",
              "<style scoped>\n",
              "    .dataframe tbody tr th:only-of-type {\n",
              "        vertical-align: middle;\n",
              "    }\n",
              "\n",
              "    .dataframe tbody tr th {\n",
              "        vertical-align: top;\n",
              "    }\n",
              "\n",
              "    .dataframe thead th {\n",
              "        text-align: right;\n",
              "    }\n",
              "</style>\n",
              "<table border=\"1\" class=\"dataframe\">\n",
              "  <thead>\n",
              "    <tr style=\"text-align: right;\">\n",
              "      <th></th>\n",
              "      <th>ds</th>\n",
              "    </tr>\n",
              "  </thead>\n",
              "  <tbody>\n",
              "    <tr>\n",
              "      <th>42</th>\n",
              "      <td>2015-07-26</td>\n",
              "    </tr>\n",
              "    <tr>\n",
              "      <th>43</th>\n",
              "      <td>2015-08-02</td>\n",
              "    </tr>\n",
              "    <tr>\n",
              "      <th>44</th>\n",
              "      <td>2015-08-09</td>\n",
              "    </tr>\n",
              "    <tr>\n",
              "      <th>45</th>\n",
              "      <td>2015-08-16</td>\n",
              "    </tr>\n",
              "    <tr>\n",
              "      <th>46</th>\n",
              "      <td>2015-08-23</td>\n",
              "    </tr>\n",
              "    <tr>\n",
              "      <th>47</th>\n",
              "      <td>2015-08-30</td>\n",
              "    </tr>\n",
              "    <tr>\n",
              "      <th>48</th>\n",
              "      <td>2015-09-06</td>\n",
              "    </tr>\n",
              "    <tr>\n",
              "      <th>49</th>\n",
              "      <td>2015-09-13</td>\n",
              "    </tr>\n",
              "    <tr>\n",
              "      <th>50</th>\n",
              "      <td>2015-09-20</td>\n",
              "    </tr>\n",
              "    <tr>\n",
              "      <th>51</th>\n",
              "      <td>2015-09-27</td>\n",
              "    </tr>\n",
              "  </tbody>\n",
              "</table>\n",
              "</div>"
            ],
            "text/plain": [
              "           ds\n",
              "42 2015-07-26\n",
              "43 2015-08-02\n",
              "44 2015-08-09\n",
              "45 2015-08-16\n",
              "46 2015-08-23\n",
              "47 2015-08-30\n",
              "48 2015-09-06\n",
              "49 2015-09-13\n",
              "50 2015-09-20\n",
              "51 2015-09-27"
            ]
          },
          "metadata": {
            "tags": []
          },
          "execution_count": 32
        }
      ]
    },
    {
      "cell_type": "markdown",
      "metadata": {
        "id": "QoE3uaxngr-z"
      },
      "source": [
        "In this line of code, we are creating a pandas dataframe with 10 (periods = 6) future data points with a weekly frequency (freq = ‘w’).  If you’re working with daily data, you wouldn’t want include freq=’w’.For monthly use freq = 'm'"
      ]
    },
    {
      "cell_type": "markdown",
      "metadata": {
        "id": "kvUA9Neqf_v0"
      },
      "source": [
        "Predicting the values for the future\n"
      ]
    },
    {
      "cell_type": "markdown",
      "metadata": {
        "id": "smJ3gAY-gDPt"
      },
      "source": [
        "For predicting the values using Prophet, we need to create a dataframe with ds(datetime stamp) containing the dates for which we want to make the predictions.\n",
        "We use make_future_dataframe() to which we specify the number of days to extend into the future. By default it includes dates from the history"
      ]
    },
    {
      "cell_type": "code",
      "metadata": {
        "id": "uhr8KGNAeVK_"
      },
      "source": [
        "forecast = prophet_basic.predict(df=future)"
      ],
      "execution_count": null,
      "outputs": []
    },
    {
      "cell_type": "markdown",
      "metadata": {
        "id": "_Z58pP0CgI0Q"
      },
      "source": [
        "Plotting the predicted data"
      ]
    },
    {
      "cell_type": "code",
      "metadata": {
        "colab": {
          "base_uri": "https://localhost:8080/",
          "height": 441
        },
        "id": "uZR-R4lner7c",
        "outputId": "1fe58390-6e9e-485b-a1d4-31db6e90bd96"
      },
      "source": [
        "fig1 =prophet_basic.plot(forecast)"
      ],
      "execution_count": null,
      "outputs": [
        {
          "output_type": "display_data",
          "data": {
            "image/png": "[encoded data removed]",
            "text/plain": [
              "<Figure size 720x432 with 1 Axes>"
            ]
          },
          "metadata": {
            "tags": []
          }
        }
      ]
    },
    {
      "cell_type": "markdown",
      "metadata": {
        "id": "HVF5VrncgNJJ"
      },
      "source": [
        "Plotting the forecasted components"
      ]
    },
    {
      "cell_type": "code",
      "metadata": {
        "colab": {
          "base_uri": "https://localhost:8080/",
          "height": 225
        },
        "id": "-SuBb0l9ewL0",
        "outputId": "02297883-6e3a-4d09-d8ca-681d0ed668ca"
      },
      "source": [
        "fig1 = prophet_basic.plot_components(forecast)"
      ],
      "execution_count": null,
      "outputs": [
        {
          "output_type": "display_data",
          "data": {
            "image/png": "[encoded data removed]",
            "text/plain": [
              "<Figure size 648x216 with 1 Axes>"
            ]
          },
          "metadata": {
            "tags": []
          }
        }
      ]
    },
    {
      "cell_type": "code",
      "metadata": {
        "colab": {
          "base_uri": "https://localhost:8080/",
          "height": 441
        },
        "id": "GwIXwKAoe1ax",
        "outputId": "f3054ed3-7b3c-438d-c908-543aedc653a2"
      },
      "source": [
        "from fbprophet.plot import add_changepoints_to_plot\n",
        "fig = prophet_basic.plot(forecast)\n",
        "a = add_changepoints_to_plot(fig.gca(), prophet_basic, forecast)"
      ],
      "execution_count": null,
      "outputs": [
        {
          "output_type": "display_data",
          "data": {
            "image/png": "[encoded data removed]",
            "text/plain": [
              "<Figure size 720x432 with 1 Axes>"
            ]
          },
          "metadata": {
            "tags": []
          }
        }
      ]
    }
  ]
}